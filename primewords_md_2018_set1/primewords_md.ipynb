{
 "cells": [
  {
   "cell_type": "code",
   "execution_count": 15,
   "metadata": {},
   "outputs": [],
   "source": [
    "import os\n",
    "import re\n",
    "import json\n",
    "import pandas as pd\n",
    "import soundfile as sf\n",
    "from pypinyin import lazy_pinyin"
   ]
  },
  {
   "cell_type": "code",
   "execution_count": 3,
   "metadata": {},
   "outputs": [],
   "source": [
    "BASE_PATH = os.getcwd()"
   ]
  },
  {
   "cell_type": "code",
   "execution_count": 4,
   "metadata": {},
   "outputs": [],
   "source": [
    "data_path = os.path.join(BASE_PATH, 'primewords_md_2018_set1')"
   ]
  },
  {
   "cell_type": "code",
   "execution_count": 20,
   "metadata": {},
   "outputs": [],
   "source": [
    "def pinyin_cover(char):\n",
    "    if 'zh' in char:\n",
    "        char = char.replace(\"zh\", \"z\")\n",
    "    char = char.replace(\"z\", \"z-zh\")\n",
    "    if 'ch' in char:\n",
    "        char = char.replace(\"ch\", \"c\")\n",
    "    char = char.replace(\"c\", \"c-ch\")\n",
    "    if 'sh' in char:\n",
    "        char = char.replace(\"sh\", \"s\")\n",
    "    char = char.replace(\"s\", \"s-sh\")\n",
    "    if 'l' in char:\n",
    "        char = char.replace(\"l\", \"n\")\n",
    "    if 'ing' in char:\n",
    "        char = char.replace(\"ing\", \"in\")\n",
    "    char = char.replace(\"in\", \"in-ing\")\n",
    "    return char"
   ]
  },
  {
   "cell_type": "code",
   "execution_count": 5,
   "metadata": {},
   "outputs": [],
   "source": [
    "with open(os.path.join(data_path, 'set1_transcript.json'),'r') as f:\n",
    "    a = json.loads(f.readlines()[0])"
   ]
  },
  {
   "cell_type": "code",
   "execution_count": 6,
   "metadata": {
    "scrolled": true
   },
   "outputs": [],
   "source": [
    "data = pd.DataFrame(a)"
   ]
  },
  {
   "cell_type": "code",
   "execution_count": 7,
   "metadata": {},
   "outputs": [],
   "source": [
    "new_data = data.drop_duplicates()"
   ]
  },
  {
   "cell_type": "code",
   "execution_count": 8,
   "metadata": {},
   "outputs": [],
   "source": [
    "new_data = new_data.rename(columns={\"file\":\"wav\", \"length\":\"durations\", \"text\":\"txt\"})"
   ]
  },
  {
   "cell_type": "code",
   "execution_count": 21,
   "metadata": {},
   "outputs": [],
   "source": [
    "new_data['txt'] = new_data.txt.apply(lambda x : re.sub('[^\\w\\u4e00-\\u9fff]+', '', x))\n",
    "new_data['pinyin'] = new_data.txt.apply(lambda x : ' '.join([pinyin_cover(i) for i in lazy_pinyin(x, errors='ignore')]))"
   ]
  },
  {
   "cell_type": "code",
   "execution_count": 22,
   "metadata": {},
   "outputs": [],
   "source": [
    "new_data[\"wav_path\"] = new_data.wav.apply(lambda x:\"primewords_md_2018_set1/primewords_md_2018_set1/wav/{}\".format(x))"
   ]
  },
  {
   "cell_type": "code",
   "execution_count": 13,
   "metadata": {},
   "outputs": [],
   "source": [
    "total_hour = round(sum([float(i) for i in list(new_data.durations)])/3600.0,2)\n",
    "total_wav_num = len(new_data.wav)"
   ]
  },
  {
   "cell_type": "code",
   "execution_count": 14,
   "metadata": {},
   "outputs": [
    {
     "name": "stdout",
     "output_type": "stream",
     "text": [
      "total num of files is 50384 and total hours is 98.96h\n"
     ]
    }
   ],
   "source": [
    "print('total num of files is {} and total hours is {}h'.format(total_wav_num, total_hour))"
   ]
  },
  {
   "cell_type": "code",
   "execution_count": 15,
   "metadata": {},
   "outputs": [],
   "source": [
    "new_data.to_csv(os.path.join(BASE_PATH, \"primewords_md_2018_set1.csv\"), index=False)"
   ]
  }
 ],
 "metadata": {
  "kernelspec": {
   "display_name": "Python 3",
   "language": "python",
   "name": "python3"
  },
  "language_info": {
   "codemirror_mode": {
    "name": "ipython",
    "version": 3
   },
   "file_extension": ".py",
   "mimetype": "text/x-python",
   "name": "python",
   "nbconvert_exporter": "python",
   "pygments_lexer": "ipython3",
   "version": "3.6.5"
  }
 },
 "nbformat": 4,
 "nbformat_minor": 2
}
