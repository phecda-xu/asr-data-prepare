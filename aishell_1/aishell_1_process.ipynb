{
 "cells": [
  {
   "cell_type": "code",
   "execution_count": 25,
   "metadata": {},
   "outputs": [],
   "source": [
    "import os\n",
    "import pandas as pd\n",
    "import soundfile as sf"
   ]
  },
  {
   "cell_type": "code",
   "execution_count": 26,
   "metadata": {},
   "outputs": [],
   "source": [
    "BASE_PATH = os.getcwd()"
   ]
  },
  {
   "cell_type": "code",
   "execution_count": 27,
   "metadata": {},
   "outputs": [],
   "source": [
    "data_path = os.path.join(BASE_PATH, 'data_aishell')"
   ]
  },
  {
   "cell_type": "code",
   "execution_count": 29,
   "metadata": {},
   "outputs": [],
   "source": [
    "def read_text(file_path):\n",
    "    with open(file_path, 'r') as f:\n",
    "        text = f.readlines()\n",
    "    return text"
   ]
  },
  {
   "cell_type": "code",
   "execution_count": 30,
   "metadata": {},
   "outputs": [],
   "source": [
    "wav_list = []\n",
    "set_list = []\n",
    "path_list = []\n",
    "duration_list = []\n",
    "for data_set in os.listdir(os.path.join(data_path, 'wav')):\n",
    "    for person in os.listdir(os.path.join(data_path, 'wav/{}'.format(data_set))):\n",
    "        for wav in os.listdir(os.path.join(data_path, 'wav/{}/{}'.format(data_set, person))):\n",
    "            wav_list.append(wav)\n",
    "            set_list.append(data_set)\n",
    "            path_list.append('{}/wav/{}/{}/{}'.format('aishell_1/data_aishell',data_set, person, wav))\n",
    "            sig,sr = sf.read(os.path.join(data_path, 'wav/{}/{}/{}'.format(data_set,person, wav)))\n",
    "            duration_list.append(round(float(len(sig))/float(sr), 3))"
   ]
  },
  {
   "cell_type": "code",
   "execution_count": 31,
   "metadata": {},
   "outputs": [],
   "source": [
    "data = pd.DataFrame()"
   ]
  },
  {
   "cell_type": "code",
   "execution_count": 32,
   "metadata": {},
   "outputs": [],
   "source": [
    "data[\"wav\"] = wav_list\n",
    "data[\"wav_path\"] = path_list\n",
    "data[\"durations\"] = duration_list\n",
    "data[\"data_set\"] = set_list"
   ]
  },
  {
   "cell_type": "code",
   "execution_count": 33,
   "metadata": {
    "scrolled": true
   },
   "outputs": [],
   "source": [
    "data = data.sort_values(by='wav')"
   ]
  },
  {
   "cell_type": "code",
   "execution_count": 34,
   "metadata": {},
   "outputs": [],
   "source": [
    "text = read_text(os.path.join(data_path, \"transcript/aishell_transcript_v0.8.txt\"))"
   ]
  },
  {
   "cell_type": "code",
   "execution_count": 35,
   "metadata": {},
   "outputs": [],
   "source": [
    "wav_name_list = []\n",
    "text_list = []\n",
    "for i in sorted(text):\n",
    "    wav_name = i[:16]\n",
    "    wav_name_list.append(wav_name)\n",
    "    txt = i[16:].strip('\\n').replace(\" \", '')\n",
    "    text_list.append(txt)"
   ]
  },
  {
   "cell_type": "code",
   "execution_count": 36,
   "metadata": {},
   "outputs": [],
   "source": [
    "data['txt'] = text_list[:len(data.wav)]"
   ]
  },
  {
   "cell_type": "code",
   "execution_count": 37,
   "metadata": {
    "scrolled": true
   },
   "outputs": [
    {
     "name": "stdout",
     "output_type": "stream",
     "text": [
      "total num of wav is 2172\n"
     ]
    }
   ],
   "source": [
    "print('total num of wav is {}'.format(len(data.wav)))"
   ]
  },
  {
   "cell_type": "code",
   "execution_count": 38,
   "metadata": {},
   "outputs": [
    {
     "name": "stdout",
     "output_type": "stream",
     "text": [
      "total durations is 2.877h\n"
     ]
    }
   ],
   "source": [
    "print('total durations is {}h'.format(round(sum(data.durations)/3600.0, 3)))"
   ]
  },
  {
   "cell_type": "code",
   "execution_count": 39,
   "metadata": {},
   "outputs": [],
   "source": [
    "data.to_csv('{}/aishell_1.csv'.format(BASE_PATH), index=False)"
   ]
  }
 ],
 "metadata": {
  "kernelspec": {
   "display_name": "Python 3",
   "language": "python",
   "name": "python3"
  },
  "language_info": {
   "codemirror_mode": {
    "name": "ipython",
    "version": 3
   },
   "file_extension": ".py",
   "mimetype": "text/x-python",
   "name": "python",
   "nbconvert_exporter": "python",
   "pygments_lexer": "ipython3",
   "version": "3.6.5"
  }
 },
 "nbformat": 4,
 "nbformat_minor": 2
}
