{
 "cells": [
  {
   "cell_type": "code",
   "execution_count": 1,
   "metadata": {},
   "outputs": [],
   "source": [
    "import os\n",
    "import json\n",
    "import pandas as pd\n",
    "import soundfile as sf"
   ]
  },
  {
   "cell_type": "code",
   "execution_count": 2,
   "metadata": {},
   "outputs": [],
   "source": [
    "BASE_PATH = os.getcwd()"
   ]
  },
  {
   "cell_type": "code",
   "execution_count": 3,
   "metadata": {},
   "outputs": [],
   "source": [
    "data_path = os.path.join(BASE_PATH, 'aidatatang_200zh/corpus')"
   ]
  },
  {
   "cell_type": "code",
   "execution_count": 4,
   "metadata": {},
   "outputs": [],
   "source": [
    "def read_text(path):\n",
    "    with open(path,'r') as f:\n",
    "        a = f.readlines()[0].strip('\\n')\n",
    "    return a"
   ]
  },
  {
   "cell_type": "code",
   "execution_count": 5,
   "metadata": {},
   "outputs": [],
   "source": [
    "wav_list = []\n",
    "path_list = []\n",
    "duration_list = []\n",
    "data_set_list = []\n",
    "text_list = []\n",
    "for data_set in os.listdir(data_path):\n",
    "    for person in os.listdir(os.path.join(data_path, data_set)):\n",
    "        for wav_file in os.listdir(os.path.join(data_path, '{}/{}'.format(data_set, person))):\n",
    "            if wav_file.endswith('.wav'):\n",
    "                data_set_list.append(data_set)\n",
    "                wav_list.append(wav_file)\n",
    "                path_list.append(\"{}/{}/{}\".format(data_set, person, wav_file))\n",
    "                sig,sr = sf.read(os.path.join(data_path, '{}/{}/{}'.format(data_set, person, wav_file)))\n",
    "                duration = round(float(len(sig))/float(sr), 3)\n",
    "                duration_list.append(duration)\n",
    "                text_path = os.path.join(data_path, '{}/{}/{}'.format(data_set,person, wav_file.replace('wav','txt')))\n",
    "                text_list.append(read_text(text_path))"
   ]
  },
  {
   "cell_type": "code",
   "execution_count": 12,
   "metadata": {},
   "outputs": [
    {
     "name": "stdout",
     "output_type": "stream",
     "text": [
      "total wav num is 2639\n"
     ]
    }
   ],
   "source": [
    "print(\"total wav num is {}\".format(len(wav_list)))"
   ]
  },
  {
   "cell_type": "code",
   "execution_count": 7,
   "metadata": {},
   "outputs": [],
   "source": [
    "data = pd.DataFrame()"
   ]
  },
  {
   "cell_type": "code",
   "execution_count": 10,
   "metadata": {},
   "outputs": [],
   "source": [
    "data[\"wav\"] = wav_list\n",
    "data[\"wav_path\"] = path_list\n",
    "data[\"durations\"] = duration_list\n",
    "data[\"txt\"] = text_list\n",
    "data[\"data_set\"] = data_set_list"
   ]
  },
  {
   "cell_type": "code",
   "execution_count": 14,
   "metadata": {},
   "outputs": [
    {
     "name": "stdout",
     "output_type": "stream",
     "text": [
      "total durations is 2.157h\n"
     ]
    }
   ],
   "source": [
    "print(\"total durations is {}h\".format(round(sum(data.durations)/3600.0,3)))"
   ]
  },
  {
   "cell_type": "code",
   "execution_count": 16,
   "metadata": {},
   "outputs": [],
   "source": [
    "data.to_csv(os.path.join(BASE_PATH,\"data_tang_200.csv\"), index=False)"
   ]
  }
 ],
 "metadata": {
  "kernelspec": {
   "display_name": "Python 3",
   "language": "python",
   "name": "python3"
  },
  "language_info": {
   "codemirror_mode": {
    "name": "ipython",
    "version": 3
   },
   "file_extension": ".py",
   "mimetype": "text/x-python",
   "name": "python",
   "nbconvert_exporter": "python",
   "pygments_lexer": "ipython3",
   "version": "3.6.5"
  }
 },
 "nbformat": 4,
 "nbformat_minor": 2
}
