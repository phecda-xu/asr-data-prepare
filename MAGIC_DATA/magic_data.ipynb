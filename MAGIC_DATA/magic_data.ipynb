{
 "cells": [
  {
   "cell_type": "code",
   "execution_count": 1,
   "metadata": {},
   "outputs": [],
   "source": [
    "import pandas as pd\n",
    "import soundfile as sf\n",
    "import os"
   ]
  },
  {
   "cell_type": "code",
   "execution_count": 5,
   "metadata": {},
   "outputs": [],
   "source": [
    "BASE_PATH = os.getcwd()"
   ]
  },
  {
   "cell_type": "code",
   "execution_count": 8,
   "metadata": {},
   "outputs": [],
   "source": [
    "data_path = os.path.join(BASE_PATH, 'magic_data')"
   ]
  },
  {
   "cell_type": "code",
   "execution_count": 54,
   "metadata": {},
   "outputs": [],
   "source": [
    "real_wav_list = []\n",
    "for data_set in [\"train\", \"test\", \"dev\"]:\n",
    "    for person in os.listdir(os.path.join(data_path,'wav',data_set)):\n",
    "        for i in os.listdir(os.path.join(data_path,'wav',data_set, person)):\n",
    "            real_wav_list.append(i)"
   ]
  },
  {
   "cell_type": "code",
   "execution_count": 55,
   "metadata": {},
   "outputs": [
    {
     "name": "stdout",
     "output_type": "stream",
     "text": [
      "total real num of wavs is 3552\n"
     ]
    }
   ],
   "source": [
    "print('total real num of wavs is {}'.format(len(real_wav_list)))"
   ]
  },
  {
   "cell_type": "code",
   "execution_count": 44,
   "metadata": {},
   "outputs": [],
   "source": [
    "TRANS_list = []\n",
    "for data_set in [\"train\", \"test\", \"dev\"]:\n",
    "    with open('magic_data/transcript/{}_TRANS.txt'.format(data_set), 'r') as f:\n",
    "        lines = f.readlines()[1:]\n",
    "        TRANS_list.extend(lines)\n",
    "\n",
    "wav_txt_dic = {}\n",
    "for i in TRANS_list:\n",
    "    wav_file, person, txt = i.strip('\\n').split('\\t')\n",
    "    wav_txt_dic[wav_file] = txt"
   ]
  },
  {
   "cell_type": "code",
   "execution_count": 57,
   "metadata": {},
   "outputs": [
    {
     "name": "stdout",
     "output_type": "stream",
     "text": [
      "total files in TRANS 621345\n"
     ]
    }
   ],
   "source": [
    "print('total files in TRANS {}'.format(len(TRANS_list)))"
   ]
  },
  {
   "cell_type": "code",
   "execution_count": 39,
   "metadata": {},
   "outputs": [],
   "source": [
    "scp_list = []\n",
    "for data_set in [\"train\", \"test\", \"dev\"]:\n",
    "    with open(\"magic_data/metadata/{}.scp\".format(data_set), 'r') as f:\n",
    "        lines = f.readlines()\n",
    "        scp_list.extend(lines)\n",
    "\n",
    "wav_file_list = []\n",
    "path_list = []\n",
    "durations_list = []\n",
    "for wav in scp_list:\n",
    "    wav_file, path = wav.strip('\\n').split('\\t')\n",
    "    wav_file_list.append(wav_file)\n",
    "    path_list.append('MAGIC_DATA/magic_data/{}'.format(path))\n",
    "    sig, sr = sf.read(os.path.join(data_path, path))\n",
    "    durations_list.append(round(float(len(sig))/float(sr),3))"
   ]
  },
  {
   "cell_type": "code",
   "execution_count": 58,
   "metadata": {},
   "outputs": [
    {
     "name": "stdout",
     "output_type": "stream",
     "text": [
      "total files in scp 609552\n"
     ]
    }
   ],
   "source": [
    "print('total files in scp {}'.format(len(scp_list)))"
   ]
  },
  {
   "cell_type": "code",
   "execution_count": 59,
   "metadata": {},
   "outputs": [],
   "source": [
    "data = pd.DataFrame()"
   ]
  },
  {
   "cell_type": "code",
   "execution_count": 60,
   "metadata": {},
   "outputs": [],
   "source": [
    "data['wav'] = wav_file_list\n",
    "data['wav_path'] = path_list\n",
    "data['durations'] = durations_list"
   ]
  },
  {
   "cell_type": "code",
   "execution_count": 48,
   "metadata": {
    "scrolled": true
   },
   "outputs": [],
   "source": [
    "data['txt'] = data.wav.apply(lambda x: wav_txt_dic[x])"
   ]
  },
  {
   "cell_type": "code",
   "execution_count": null,
   "metadata": {},
   "outputs": [],
   "source": [
    "print('total duration is {}'.format(round(float(sum(data.durations))/3600.0, 3)))"
   ]
  },
  {
   "cell_type": "code",
   "execution_count": 61,
   "metadata": {},
   "outputs": [],
   "source": [
    "data.to_csv('{}/magic_data.csv'.format(BASE_PATH), index=False)"
   ]
  }
 ],
 "metadata": {
  "kernelspec": {
   "display_name": "Python 3",
   "language": "python",
   "name": "python3"
  },
  "language_info": {
   "codemirror_mode": {
    "name": "ipython",
    "version": 3
   },
   "file_extension": ".py",
   "mimetype": "text/x-python",
   "name": "python",
   "nbconvert_exporter": "python",
   "pygments_lexer": "ipython3",
   "version": "3.6.5"
  }
 },
 "nbformat": 4,
 "nbformat_minor": 2
}
