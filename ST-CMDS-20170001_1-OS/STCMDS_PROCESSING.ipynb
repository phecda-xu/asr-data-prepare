{
 "cells": [
  {
   "cell_type": "code",
   "execution_count": 1,
   "metadata": {},
   "outputs": [],
   "source": [
    "import os\n",
    "import pandas as pd\n",
    "import json\n",
    "import soundfile as sf"
   ]
  },
  {
   "cell_type": "code",
   "execution_count": 2,
   "metadata": {},
   "outputs": [],
   "source": [
    "BASE_PATH = os.getcwd()"
   ]
  },
  {
   "cell_type": "code",
   "execution_count": 3,
   "metadata": {},
   "outputs": [],
   "source": [
    "data_path = os.path.join(BASE_PATH, 'ST-CMDS-20170001_1-OS')"
   ]
  },
  {
   "cell_type": "code",
   "execution_count": 4,
   "metadata": {},
   "outputs": [],
   "source": [
    "wav_list = []\n",
    "text_list = []\n",
    "wav_path_list = []\n",
    "durations_list = []\n",
    "for wav_name in os.listdir(os.path.join(data_path, 'wav')):\n",
    "    wav_list.append(wav_name)\n",
    "    with open(os.path.join(data_path, 'txt/{}'.format(wav_name.replace('wav','txt')))) as f:\n",
    "        trans = f.readlines()[0]\n",
    "        text_list.append(trans)\n",
    "        wav_path_list.append('wav/{}'.format(wav_name))\n",
    "        sig, _ = sf.read(os.path.join(data_path, 'wav/{}'.format(wav_name)))\n",
    "        duration = round(len(sig)/16000.0,4)\n",
    "        durations_list.append(duration)"
   ]
  },
  {
   "cell_type": "code",
   "execution_count": 5,
   "metadata": {},
   "outputs": [
    {
     "name": "stdout",
     "output_type": "stream",
     "text": [
      "total file num is 240\n"
     ]
    }
   ],
   "source": [
    "print(\"total file num is {}\".format(len(wav_list)))"
   ]
  },
  {
   "cell_type": "code",
   "execution_count": 6,
   "metadata": {},
   "outputs": [],
   "source": [
    "ST_data = pd.DataFrame()"
   ]
  },
  {
   "cell_type": "code",
   "execution_count": 7,
   "metadata": {},
   "outputs": [],
   "source": [
    "ST_data[\"wav\"] = wav_list\n",
    "ST_data[\"txt\"] = text_list\n",
    "ST_data[\"wav_path\"] = wav_path_list\n",
    "ST_data[\"durations\"] = durations_list"
   ]
  },
  {
   "cell_type": "code",
   "execution_count": 8,
   "metadata": {},
   "outputs": [
    {
     "name": "stdout",
     "output_type": "stream",
     "text": [
      "total duration is 0.28\n"
     ]
    }
   ],
   "source": [
    "total_time = round(sum(ST_data[\"durations\"])/3600.0, 2)\n",
    "print(\"total duration is {} \".format(total_time))"
   ]
  },
  {
   "cell_type": "code",
   "execution_count": 9,
   "metadata": {
    "scrolled": false
   },
   "outputs": [],
   "source": [
    "ST_data.to_csv(os.path.join(BASE_PATH, \"ST-CMDS-2017.csv\"))"
   ]
  }
 ],
 "metadata": {
  "kernelspec": {
   "display_name": "Python 3",
   "language": "python",
   "name": "python3"
  },
  "language_info": {
   "codemirror_mode": {
    "name": "ipython",
    "version": 3
   },
   "file_extension": ".py",
   "mimetype": "text/x-python",
   "name": "python",
   "nbconvert_exporter": "python",
   "pygments_lexer": "ipython3",
   "version": "3.6.5"
  }
 },
 "nbformat": 4,
 "nbformat_minor": 2
}
